{
 "cells": [
  {
   "cell_type": "code",
   "execution_count": null,
   "id": "82a47fe8",
   "metadata": {},
   "outputs": [],
   "source": [
    "# sum,min,max,mean,median,var,std"
   ]
  },
  {
   "cell_type": "code",
   "execution_count": null,
   "id": "0db44312",
   "metadata": {},
   "outputs": [],
   "source": [
    "df.describe()"
   ]
  },
  {
   "cell_type": "code",
   "execution_count": null,
   "id": "c3f74bf7",
   "metadata": {},
   "outputs": [],
   "source": [
    "df[['energy','liveness']].describe()"
   ]
  },
  {
   "cell_type": "code",
   "execution_count": null,
   "id": "c1626d37",
   "metadata": {},
   "outputs": [],
   "source": [
    "# sum\n",
    " r1=df[df['top genre']=='pop']\n",
    "    print(r1.shape)"
   ]
  },
  {
   "cell_type": "code",
   "execution_count": null,
   "id": "d6d24607",
   "metadata": {},
   "outputs": [],
   "source": [
    "r1=['popularity'].sum()"
   ]
  },
  {
   "cell_type": "code",
   "execution_count": null,
   "id": "a6fa8dfb",
   "metadata": {},
   "outputs": [],
   "source": [
    "# find year wise liveness sum\n",
    "\n",
    "r2=df.groupby('year')['liveness','energy'].sum()\n",
    "r2"
   ]
  },
  {
   "cell_type": "code",
   "execution_count": null,
   "id": "b20b3bf8",
   "metadata": {},
   "outputs": [],
   "source": [
    "# min\n",
    "# find min loudness for the artist post malone\n",
    "\n",
    "r3=df[df['artist']=='post malone']\n",
    "r3.shape"
   ]
  },
  {
   "cell_type": "code",
   "execution_count": null,
   "id": "be6dd128",
   "metadata": {},
   "outputs": [],
   "source": [
    "print(r3['loudness.db'].min())"
   ]
  },
  {
   "cell_type": "code",
   "execution_count": null,
   "id": "4e015d77",
   "metadata": {},
   "outputs": [],
   "source": [
    "# find artist wise min dancebility\n",
    "\n",
    "r4=df.groupby('artist')['dancebility'].min()\n",
    "r4"
   ]
  },
  {
   "cell_type": "code",
   "execution_count": null,
   "id": "503160d9",
   "metadata": {},
   "outputs": [],
   "source": [
    "#MAX\n",
    "# find max acousticness for the artist ed sheeran\n",
    "\n",
    "r5=df[df['artist']=='ed sheeran']\n",
    "r5.shape"
   ]
  },
  {
   "cell_type": "code",
   "execution_count": null,
   "id": "e3013eed",
   "metadata": {},
   "outputs": [],
   "source": [
    "r5['acousticness'].max()"
   ]
  },
  {
   "cell_type": "code",
   "execution_count": null,
   "id": "1274dcfb",
   "metadata": {},
   "outputs": [],
   "source": [
    "# find top genre wisw max of length and dacousticness\n",
    "r6=df.groupby('top genre')[['length','acousticness']].max()\n",
    "print(r6.shape)\n",
    "print(type(r6))\n",
    "r6.head()\n"
   ]
  },
  {
   "cell_type": "code",
   "execution_count": null,
   "id": "0018245d",
   "metadata": {},
   "outputs": [],
   "source": [
    "# VAR()\n",
    "\n",
    "# find variance of energy and liveness\n",
    "r7=df[['enrgy','liveness']].var()\n",
    "r7"
   ]
  },
  {
   "cell_type": "code",
   "execution_count": null,
   "id": "7772bb45",
   "metadata": {},
   "outputs": [],
   "source": [
    "# find variance of valence for the year over 2017\n",
    "r8=df[df['year']>=2017]\n",
    "print(r8.shape)\n",
    "print(r8['valence'].var())"
   ]
  },
  {
   "cell_type": "code",
   "execution_count": null,
   "id": "4a4e5419",
   "metadata": {},
   "outputs": [],
   "source": [
    "# std()\n",
    "# find standard deviation of enenrgy and liveness\n",
    "r9=df[['energy','liveness']].std()\n",
    "r9"
   ]
  },
  {
   "cell_type": "code",
   "execution_count": null,
   "id": "ccdd811d",
   "metadata": {},
   "outputs": [],
   "source": [
    "# find std deviation of popularity based on year 2015 and beyond\n",
    "df_2015beyond=df[df['year']>=2015]\n",
    "r10=df_2015beyond.groupby('year')['popularity'].std()\n",
    "r10"
   ]
  },
  {
   "cell_type": "code",
   "execution_count": null,
   "id": "f1b308c2",
   "metadata": {},
   "outputs": [],
   "source": [
    "#count\n",
    "\n",
    "# find count of song for the post malone for the year 2018\n",
    "df_2018=df[df['year']==2018]\n",
    "r11=df_2018['title'][df_2018['artist']=='post malone'].count()\n",
    "r11"
   ]
  },
  {
   "cell_type": "code",
   "execution_count": null,
   "id": "d05f6c1d",
   "metadata": {},
   "outputs": [],
   "source": [
    "# find count of songs based on genre\n",
    "\n",
    "r12=df.groupby('top genre')['title'].count()\n",
    "r12.sort_values(ascending=False)"
   ]
  },
  {
   "cell_type": "code",
   "execution_count": null,
   "id": "34e018dd",
   "metadata": {},
   "outputs": [],
   "source": [
    "# mean\n",
    "\n",
    "# find mean of valence length,and energy\n",
    "r13=df[['valence','length','energy']].mean()\n",
    "r13"
   ]
  },
  {
   "cell_type": "code",
   "execution_count": null,
   "id": "c789c9d0",
   "metadata": {},
   "outputs": [],
   "source": [
    "# find mean of popularity dacebility and energy base don artist\n",
    "\n",
    "r14=df.groupby(['artist'])[['popularity','dancebility','enrgy']].mean()\n",
    "r14"
   ]
  },
  {
   "cell_type": "code",
   "execution_count": null,
   "id": "d55b6d5f",
   "metadata": {},
   "outputs": [],
   "source": [
    "# median\n",
    "\n",
    " # find the median liveness \n",
    "    \n",
    "    r15=df['liveness'].median()\n",
    "    r15"
   ]
  },
  {
   "cell_type": "code",
   "execution_count": null,
   "id": "aa5a15ad",
   "metadata": {},
   "outputs": [],
   "source": [
    "# find the of popularity energy and speechiness and based on year\n",
    "r16=df.groupby('year')[['popularity','energy','speechness']].median()\n",
    "r16"
   ]
  }
 ],
 "metadata": {
  "kernelspec": {
   "display_name": "Python 3 (ipykernel)",
   "language": "python",
   "name": "python3"
  },
  "language_info": {
   "codemirror_mode": {
    "name": "ipython",
    "version": 3
   },
   "file_extension": ".py",
   "mimetype": "text/x-python",
   "name": "python",
   "nbconvert_exporter": "python",
   "pygments_lexer": "ipython3",
   "version": "3.10.9"
  }
 },
 "nbformat": 4,
 "nbformat_minor": 5
}
