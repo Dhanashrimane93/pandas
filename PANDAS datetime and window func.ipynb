{
 "cells": [
  {
   "cell_type": "code",
   "execution_count": 2,
   "id": "1986a37c",
   "metadata": {},
   "outputs": [],
   "source": [
    "import pandas as pd \n",
    "import numpy as np"
   ]
  },
  {
   "cell_type": "code",
   "execution_count": null,
   "id": "3b8cdca5",
   "metadata": {},
   "outputs": [],
   "source": [
    "# electricity production dataset\n",
    "\n",
    "df=pd.read_csv('electricity_consumed.csv')\n",
    "print(type(df))\n",
    "df.head()"
   ]
  },
  {
   "cell_type": "code",
   "execution_count": null,
   "id": "580178c8",
   "metadata": {},
   "outputs": [],
   "source": [
    "df.shape"
   ]
  },
  {
   "cell_type": "code",
   "execution_count": null,
   "id": "f4e768c3",
   "metadata": {},
   "outputs": [],
   "source": [
    "df.types"
   ]
  },
  {
   "cell_type": "code",
   "execution_count": null,
   "id": "9d4e9096",
   "metadata": {},
   "outputs": [],
   "source": [
    "# change the data type of date to datetime\n",
    "\n",
    "df['date']=pd.to_datetime(df['date'])\n",
    "df.dtypes"
   ]
  },
  {
   "cell_type": "code",
   "execution_count": null,
   "id": "ec6e98c3",
   "metadata": {},
   "outputs": [],
   "source": [
    "df.isnull().sum()"
   ]
  },
  {
   "cell_type": "code",
   "execution_count": null,
   "id": "cd352a30",
   "metadata": {},
   "outputs": [],
   "source": [
    "df1=df.copy()"
   ]
  },
  {
   "cell_type": "code",
   "execution_count": null,
   "id": "acfcc4b9",
   "metadata": {},
   "outputs": [],
   "source": [
    "# Q. extract year quarter month day and weekday from the date column in the dfdataframe and store\n",
    "#them as seperatecolumns in df dataframe\n",
    "\n",
    "df['year']=df['date'].dt.year\n",
    "df['quarter']=df['date'].dt.quarter\n",
    "df['month']=df['date'].dt.month\n",
    "df['day']=df['date'].dt.day\n",
    "df['weeday']=df['date'].dt.weekday\n",
    "df.head()"
   ]
  },
  {
   "cell_type": "code",
   "execution_count": null,
   "id": "5bef4f5e",
   "metadata": {},
   "outputs": [],
   "source": [
    "# extract year quarter month day in df1 using lambda function\n",
    "\n",
    "df1['year']=df1['date'].apply(lambda x : x.year)\n",
    "df1['quarter']=df1['date'].apply(lambda x : x.quarter)\n",
    "df1['month']=df1['date'].apply(lambda x : x.month)\n",
    "df1['day']=df1['date'].apply(lambda x : x.day)\n",
    "df1.head()\n"
   ]
  },
  {
   "cell_type": "code",
   "execution_count": null,
   "id": "9e9abd43",
   "metadata": {},
   "outputs": [],
   "source": []
  }
 ],
 "metadata": {
  "kernelspec": {
   "display_name": "Python 3 (ipykernel)",
   "language": "python",
   "name": "python3"
  },
  "language_info": {
   "codemirror_mode": {
    "name": "ipython",
    "version": 3
   },
   "file_extension": ".py",
   "mimetype": "text/x-python",
   "name": "python",
   "nbconvert_exporter": "python",
   "pygments_lexer": "ipython3",
   "version": "3.10.9"
  }
 },
 "nbformat": 4,
 "nbformat_minor": 5
}
